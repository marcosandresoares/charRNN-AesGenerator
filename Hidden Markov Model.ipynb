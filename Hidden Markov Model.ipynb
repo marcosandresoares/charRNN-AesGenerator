{
 "cells": [
  {
   "cell_type": "code",
   "execution_count": 2,
   "metadata": {
    "collapsed": true
   },
   "outputs": [],
   "source": [
    "# Import dependencies\n",
    "import random\n",
    "import re\n",
    "import glob"
   ]
  },
  {
   "cell_type": "code",
   "execution_count": 3,
   "metadata": {
    "collapsed": true
   },
   "outputs": [],
   "source": [
    "# freqDict is a dict of dict containing frequencies\n",
    "def addToDict(filename, freqDict):\n",
    "    f = open(filename, 'r')\n",
    "    words = re.sub(\"\\n\", \" \\n\", f.read()).lower().split(' ')\n",
    "\n",
    "    # count frequencies curr -> succ\n",
    "    for current, succession in zip(words[1:], words[:-1]):\n",
    "        # check if current is already in the dict of dicts\n",
    "        if current not in freqDict:\n",
    "            freqDict[current] = {succession: 1}\n",
    "        else:\n",
    "            # check if the dict associated with curr already has succ\n",
    "            if succession not in freqDict[current]:\n",
    "                freqDict[current][succession] = 1;\n",
    "            else:\n",
    "                freqDict[current][succession] += 1;\n",
    "\n",
    "    # compute percentages\n",
    "    probDict = {}\n",
    "    for current, currentDict in freqDict.items():\n",
    "        probDict[current] = {}\n",
    "        currentTotal = sum(currentDict.values())\n",
    "        for succession in currentDict:\n",
    "            probDict[current][succession] = currentDict[succession] / currentTotal\n",
    "    return probDict"
   ]
  },
  {
   "cell_type": "code",
   "execution_count": 8,
   "metadata": {
    "collapsed": true
   },
   "outputs": [],
   "source": [
    "def markov_next(current, probDict):\n",
    "    if current not in probDict:\n",
    "        return random.choice(list(probDict.keys()))\n",
    "    else:\n",
    "        succProbs = probDict[current]\n",
    "        randProb = random.random()\n",
    "        currProb = 0.0\n",
    "        for succession in succProbs:\n",
    "            currProb += succProbs[succession]\n",
    "            if randProb <= currProb:\n",
    "                return succession\n",
    "        return random.choice(list(probDict.keys()))"
   ]
  },
  {
   "cell_type": "code",
   "execution_count": 9,
   "metadata": {},
   "outputs": [],
   "source": [
    "def makeRap(current, probDict, T = 300):\n",
    "    rap = [current]\n",
    "    for t in range(T):\n",
    "        rap.append(markov_next(rap[-1], probDict))\n",
    "    return \" \".join(rap)"
   ]
  },
  {
   "cell_type": "code",
   "execution_count": 11,
   "metadata": {},
   "outputs": [
    {
     "name": "stdout",
     "output_type": "stream",
     "text": [
      "What do you want to start your rap with?\n",
      " > bills\n",
      "Aesop's new verse:\n",
      "bills sock his in crack the before chill to had york new the foreplay you or levitate you from stealing are people \n",
      "the bricks the target narcs budding the \n",
      "with motion in \n",
      "six \n",
      " it \n",
      "assuming barbiturates fresh her had fetish, flatline a upon \n",
      "once rock] aesop [chorus: billion \n",
      "six \n",
      " go grandeur of arrangement window a of out move the of lexicon the bribes, and puffed, and \n",
      "cops pilate pontius was it that \n",
      "call noise that noticed he wrongs his \n",
      "like proud damn so kill, and morning the \n",
      "with motion in drowning up cook she \n",
      "man rope.\" of search \n",
      "in rock] aesop 2: \n",
      "[verse \n",
      " place \n",
      "and it said cops the play wouldn't he \n",
      "will pigs shit-soaked them with chair beach a \n",
      "document much you \n",
      "how fine decide) you from mile one \n",
      "each \n",
      "[bridge] \n",
      " win won't walls the clip he \n",
      "when swarm the nail \n",
      "tooth, sickly town the in \n",
      "sharks rock] aesop [chorus: \n",
      "drunk, back crumbs bread the is buck a \n",
      "in baggies of sign no mean the \n",
      "by back-seat the \n",
      "skip bleed gums yellow his for \n",
      "gas ares dodge '85 an \n",
      "and drums the than fixer-upper a \n",
      "with sect neighboring a of sign \n",
      "fine, can you \n",
      "whether hues forty in name your poke mouth, his with city \n",
      "no right isn't \n",
      "difficult television \n",
      "kill television \n",
      "kill television \n",
      "kill television \n",
      "kill said cops the in box the \n",
      "catch surrender a to \n",
      "happy \n",
      "yeah crazy yo... slow speed... same the and \n",
      "slow \n",
      " pass shall \n",
      "none pass.\" shall \"none like, rush, initial the all salvage \n",
      "tugboat coppers galvatron the when \n",
      "so blows wind the buckled swash and up ski as dumb as walk i cuz just was \n",
      "i bells all \n",
      "'til puff and left right, the capture to trying action in seashells air, the \n",
      "when annoyed highly smile, a is he\n"
     ]
    }
   ],
   "source": [
    "if __name__ == '__main__':\n",
    "    rapFreqDict = {}\n",
    "    \n",
    "    # Songs\n",
    "    rapProbDict = addToDict('data/none_shall_pass_39_thieves.txt', rapFreqDict)\n",
    "    rapProbDict = addToDict('data/none_shall_pass_bring_back_pluto.txt', rapFreqDict)\n",
    "    rapProbDict = addToDict('data/none_shall_pass_catacomb_kids.txt', rapFreqDict)\n",
    "    rapProbDict = addToDict('data/none_shall_pass_citronella.txt', rapFreqDict)\n",
    "    rapProbDict = addToDict('data/none_shall_pass_coffee.txt', rapFreqDict)\n",
    "    rapProbDict = addToDict('data/none_shall_pass_dark_heart_news.txt', rapFreqDict)\n",
    "    rapProbDict = addToDict('data/none_shall_pass_five_fingers.txt', rapFreqDict)\n",
    "    rapProbDict = addToDict('data/none_shall_pass_fumes.txt', rapFreqDict)\n",
    "    rapProbDict = addToDict('data/none_shall_pass_getaway_car_aesop_only.txt', rapFreqDict)\n",
    "    rapProbDict = addToDict('data/none_shall_pass_gun_for_the_whole_family_aesop_only.txt', rapFreqDict)\n",
    "    rapProbDict = addToDict('data/none_shall_pass_keep_off_the_lawn.txt', rapFreqDict)\n",
    "    rapProbDict = addToDict('data/none_shall_pass_no_city.txt', rapFreqDict)\n",
    "    rapProbDict = addToDict('data/none_shall_pass_pigs.txt', rapFreqDict)\n",
    "    rapProbDict = addToDict('data/none_shall_pass_the_harbour_is_yours.txt', rapFreqDict)\n",
    "    rapProbDict = addToDict('data/none_shall_pass-none_shall_pass.txt', rapFreqDict)\n",
    "\n",
    "    startWord = input(\"What do you want to start your rap with?\\n > \")\n",
    "    print(\"Aesop's new verse:\")\n",
    "    print(makeRap(startWord, rapProbDict))"
   ]
  },
  {
   "cell_type": "code",
   "execution_count": null,
   "metadata": {
    "collapsed": true
   },
   "outputs": [],
   "source": []
  }
 ],
 "metadata": {
  "kernelspec": {
   "display_name": "Python 3",
   "language": "python",
   "name": "python3"
  },
  "language_info": {
   "codemirror_mode": {
    "name": "ipython",
    "version": 3
   },
   "file_extension": ".py",
   "mimetype": "text/x-python",
   "name": "python",
   "nbconvert_exporter": "python",
   "pygments_lexer": "ipython3",
   "version": "3.6.2"
  }
 },
 "nbformat": 4,
 "nbformat_minor": 2
}
