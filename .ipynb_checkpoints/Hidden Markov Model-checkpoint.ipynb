{
 "cells": [
  {
   "cell_type": "code",
   "execution_count": 5,
   "metadata": {
    "collapsed": true
   },
   "outputs": [],
   "source": [
    "# Import dependencies\n",
    "import random\n",
    "import re\n",
    "import glob"
   ]
  },
  {
   "cell_type": "code",
   "execution_count": 6,
   "metadata": {
    "collapsed": true
   },
   "outputs": [],
   "source": [
    "# freqDict is a dict of dict containing frequencies\n",
    "def addToDict(filename, freqDict):\n",
    "    f = open(filename, 'r')\n",
    "    words = re.sub(\"\\n\", \" \\n\", f.read()).lower().split(' ')\n",
    "\n",
    "    # count frequencies curr -> succ\n",
    "    for current, succession in zip(words[1:], words[:-1]):\n",
    "        # check if current is already in the dict of dicts\n",
    "        if current not in freqDict:\n",
    "            freqDict[current] = {succession: 1}\n",
    "        else:\n",
    "            # check if the dict associated with curr already has succ\n",
    "            if succession not in freqDict[current]:\n",
    "                freqDict[current][succession] = 1;\n",
    "            else:\n",
    "                freqDict[current][succession] += 1;\n",
    "\n",
    "    # compute percentages\n",
    "    probDict = {}\n",
    "    for current, currentDict in freqDict.items():\n",
    "        probDict[current] = {}\n",
    "        currentTotal = sum(currentDict.values())\n",
    "        for succession in currentDict:\n",
    "            probDict[current][succession] = currentDict[succession] / currentTotal\n",
    "    return probDict"
   ]
  },
  {
   "cell_type": "code",
   "execution_count": 7,
   "metadata": {
    "collapsed": true
   },
   "outputs": [],
   "source": [
    "def markov_next(current, probDict):\n",
    "    if current not in probDict:\n",
    "        return random.choice(list(probDict.keys()))\n",
    "    else:\n",
    "        succProbs = probDict[current]\n",
    "        randProb = random.random()\n",
    "        currProb = 0.0\n",
    "        for succession in succProbs:\n",
    "            currProb += succProbs[succession]\n",
    "            if randProb <= currProb:\n",
    "                return succession\n",
    "        return random.choice(list(probDict.keys()))"
   ]
  },
  {
   "cell_type": "code",
   "execution_count": 8,
   "metadata": {
    "collapsed": true
   },
   "outputs": [],
   "source": [
    "def makeRap(current, probDict, T = 300):\n",
    "    rap = [current]\n",
    "    for t in range(T):\n",
    "        rap.append(markov_next(rap[-1], probDict))\n",
    "    return \" \".join(rap)"
   ]
  },
  {
   "cell_type": "code",
   "execution_count": 9,
   "metadata": {},
   "outputs": [
    {
     "name": "stdout",
     "output_type": "stream",
     "text": [
      "What do you want to start your rap with?\n",
      " > good\n",
      "Aesop's new verse:\n",
      "good that admit finally \n",
      "i adrenaline \n",
      "but, (brrrap!) plummets it sprayed blades with roof the when shake to tied lips \n",
      "zipped of pack a i'm person in kink permanent \n",
      "a door you murder to fluttering flags, \n",
      "freak alchemy twisted strongman \n",
      "lawnchair whistlers and dollar \n",
      "five kingpin graff city the \n",
      "for quartered and open, is ae \n",
      "but massive activate \n",
      "feelers magnet barnacle in wallop a in easily stood coulda he \n",
      "or (riiiiight) right? different the \n",
      "anti-up nighttime for no mean the on hindsight of reaking hot possibly and came saturdays on \n",
      "nose nest a on falling still kilter, off snow a \n",
      "with limits your shove you chop will revolution \n",
      "the (check) preface my why \n",
      "\"...and wary \n",
      "be patience \n",
      "when strangers with locomotive \n",
      "basic evening your on is \n",
      "this me \n",
      "keeping voltage the tell \n",
      "i sideways a on god my in sky the in kink permanent \n",
      "a driver the of out \n",
      "watch \n",
      " \n",
      "oh.. go i miss, missers \n",
      "but same the by crushed and still \n",
      "i'm subwoofer! a slip to bout it, on 20 something push let's naw take, let's knives, and karma the into me on timb brick it’s fashion? \n",
      "oh, \n",
      " isn't it til ragged my in living last every \n",
      "see sideshow pensive invention's intention frozen know \n",
      "i awake \n",
      "stay evening? this \n",
      "if (yeah?) d.c. to weeping and prize the through \n",
      "sweat hoodie-off hoodie-on fevery pincer, all em tell could \n",
      "you hell tchotchke in \n",
      "tie whips out twinkle \n",
      "pull hungry the into crash wave a got nobody ask will \n",
      "who this? of hype corn yellow these all \n",
      "bash frame rickety the with whimsy of shots warn must this with walking \n",
      "moon \n",
      " down... \n",
      "down... direction got i day a with start and teeth yellow of god today, home christian a with unit therapeutic \n",
      "the infinity you make go money your carry\n"
     ]
    }
   ],
   "source": [
    "if __name__ == '__main__':\n",
    "    rapFreqDict = {}\n",
    "    \n",
    "    # Songs\n",
    "    rapProbDict = addToDict('data_album/aesop_rock.txt', rapFreqDict)\n",
    "\n",
    "    startWord = input(\"What do you want to start your rap with?\\n > \")\n",
    "    print(\"Aesop's new verse:\")\n",
    "    print(makeRap(startWord, rapProbDict))"
   ]
  },
  {
   "cell_type": "code",
   "execution_count": null,
   "metadata": {
    "collapsed": true
   },
   "outputs": [],
   "source": []
  }
 ],
 "metadata": {
  "kernelspec": {
   "display_name": "Python 3",
   "language": "python",
   "name": "python3"
  },
  "language_info": {
   "codemirror_mode": {
    "name": "ipython",
    "version": 3
   },
   "file_extension": ".py",
   "mimetype": "text/x-python",
   "name": "python",
   "nbconvert_exporter": "python",
   "pygments_lexer": "ipython3",
   "version": "3.6.2"
  }
 },
 "nbformat": 4,
 "nbformat_minor": 2
}
